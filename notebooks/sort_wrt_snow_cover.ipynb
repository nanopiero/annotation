{
  "cells": [
    {
      "cell_type": "code",
      "execution_count": null,
      "id": "f95d9a2d-5843-4f86-a56c-ea5a12c3097b",
      "metadata": {
        "id": "f95d9a2d-5843-4f86-a56c-ea5a12c3097b"
      },
      "outputs": [],
      "source": [
        "# Imports\n",
        "from os.path import join, isdir, isfile\n",
        "from os import listdir as ls\n",
        "import copy\n",
        "import os\n",
        "from IPython.display import display\n",
        "from ipywidgets import interact, widgets\n",
        "from PIL import Image\n",
        "import matplotlib.pyplot as plt\n",
        "import torch\n",
        "from torch.utils.data import Dataset, DataLoader\n",
        "import torch.nn.functional as F\n",
        "import numpy as np"
      ]
    },
    {
      "cell_type": "code",
      "source": [
        "# Local clone\n",
        "! git clone https://github.com/nanopiero/weow.git\n",
        "import sys\n",
        "sys.path.append('weow')\n",
        "from src.utils import *"
      ],
      "metadata": {
        "id": "Lz52xvY0FPoz"
      },
      "id": "Lz52xvY0FPoz",
      "execution_count": null,
      "outputs": []
    },
    {
      "cell_type": "code",
      "source": [
        "# To get models and images\n",
        "! pip install huggingface_hub\n",
        "from huggingface_hub import hf_hub_download"
      ],
      "metadata": {
        "id": "xZg8RH3CETfa"
      },
      "id": "xZg8RH3CETfa",
      "execution_count": null,
      "outputs": []
    },
    {
      "cell_type": "code",
      "source": [
        "import os\n",
        "import zipfile\n",
        "from huggingface_hub import hf_hub_download\n",
        "\n",
        "# Step 1: Download the zip file using hf_hub_download\n",
        "local_zip = hf_hub_download(repo_id=\"nanopiero/weow\", filename=\"webcam_images.zip\")\n",
        "\n",
        "# Step 2: Unzip the contents\n",
        "with zipfile.ZipFile(local_zip, 'r') as zip_ref:\n",
        "    zip_ref.extractall('webcam_images')"
      ],
      "metadata": {
        "id": "OZ_AK8gFTAkx"
      },
      "id": "OZ_AK8gFTAkx",
      "execution_count": null,
      "outputs": []
    },
    {
      "cell_type": "code",
      "source": [
        "# List all .jpg images in the directory\n",
        "image_dir = 'webcam_images'\n",
        "image_files = sorted([f for f in os.listdir(image_dir) if f.endswith('.jpg')], key=lambda x: int(x.split('.')[0]))\n",
        "\n",
        "def show_image(index):\n",
        "    img_path = os.path.join('webcam_images', image_files[index])\n",
        "    img = Image.open(img_path)\n",
        "    plt.imshow(img)\n",
        "    plt.axis('off')  # Hide axes\n",
        "    plt.show()\n",
        "\n",
        "# Use a slider to scroll through the images\n",
        "interact(show_image, index=widgets.IntSlider(min=0, max=len(image_files)-1, step=1, description=\"Image Index\"));\n"
      ],
      "metadata": {
        "id": "tYNFFyQmH1Ji"
      },
      "id": "tYNFFyQmH1Ji",
      "execution_count": null,
      "outputs": []
    }
  ],
  "metadata": {
    "kernelspec": {
      "display_name": "Python 3",
      "name": "python3"
    },
    "language_info": {
      "codemirror_mode": {
        "name": "ipython",
        "version": 3
      },
      "file_extension": ".py",
      "mimetype": "text/x-python",
      "name": "python",
      "nbconvert_exporter": "python",
      "pygments_lexer": "ipython3",
      "version": "3.9.15"
    },
    "colab": {
      "provenance": [],
      "gpuType": "T4"
    },
    "accelerator": "GPU"
  },
  "nbformat": 4,
  "nbformat_minor": 5
}