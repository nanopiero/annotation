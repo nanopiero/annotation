{
  "cells": [
    {
      "cell_type": "code",
      "execution_count": 46,
      "id": "f95d9a2d-5843-4f86-a56c-ea5a12c3097b",
      "metadata": {
        "id": "f95d9a2d-5843-4f86-a56c-ea5a12c3097b"
      },
      "outputs": [],
      "source": [
        "# Standard imports\n",
        "from os.path import join, isdir, isfile\n",
        "from os import listdir as ls\n",
        "import copy\n",
        "import os\n",
        "from IPython.display import display\n",
        "from ipywidgets import interact, widgets\n",
        "from PIL import Image\n",
        "import numpy as np\n",
        "import sys\n",
        "import time\n",
        "import shutil\n",
        "import os\n",
        "import matplotlib.pyplot as plt\n",
        "import pandas\n",
        "import networkx as nx"
      ]
    },
    {
      "cell_type": "code",
      "source": [
        "# Local clone\n",
        "! git clone https://github.com/nanopiero/annotation.git\n",
        "import sys\n",
        "sys.path.append('annotation')\n"
      ],
      "metadata": {
        "id": "Lz52xvY0FPoz"
      },
      "id": "Lz52xvY0FPoz",
      "execution_count": null,
      "outputs": []
    },
    {
      "cell_type": "code",
      "source": [
        "# Import the functions we need to sort a sequence :\n",
        "import importlib\n",
        "import src.utils as utils\n",
        "import src.poset_mergesort_functions_per_level  as pmf"
      ],
      "metadata": {
        "id": "f0-l8pOULwaq"
      },
      "id": "f0-l8pOULwaq",
      "execution_count": 10,
      "outputs": []
    },
    {
      "cell_type": "code",
      "source": [
        "# Prepare a sequence to sort :"
      ],
      "metadata": {
        "id": "CloKZ43UQooQ"
      },
      "id": "CloKZ43UQooQ",
      "execution_count": null,
      "outputs": []
    },
    {
      "cell_type": "code",
      "source": [
        "! pip install huggingface_hub\n",
        "from huggingface_hub import hf_hub_download"
      ],
      "metadata": {
        "id": "xZg8RH3CETfa"
      },
      "id": "xZg8RH3CETfa",
      "execution_count": 11,
      "outputs": []
    },
    {
      "cell_type": "code",
      "source": [
        "import os\n",
        "import zipfile\n",
        "from huggingface_hub import hf_hub_download\n",
        "\n",
        "# Step 1: Download the zip file using hf_hub_download\n",
        "local_zip = hf_hub_download(repo_id=\"nanopiero/weow\", filename=\"webcam_images.zip\")\n",
        "\n",
        "# Step 2: Unzip the contents\n",
        "with zipfile.ZipFile(local_zip, 'r') as zip_ref:\n",
        "    zip_ref.extractall('webcam_images')"
      ],
      "metadata": {
        "id": "OZ_AK8gFTAkx"
      },
      "id": "OZ_AK8gFTAkx",
      "execution_count": null,
      "outputs": []
    },
    {
      "cell_type": "code",
      "source": [
        "# List all .jpg images in the directory\n",
        "image_dir = 'webcam_images'\n",
        "image_files = sorted([f for f in os.listdir(image_dir) if f.endswith('.jpg')], key=lambda x: int(x.split('.')[0]))\n",
        "\n",
        "def show_image(index):\n",
        "    img_path = os.path.join('webcam_images', image_files[index])\n",
        "    img = Image.open(img_path)\n",
        "    plt.imshow(img)\n",
        "    plt.axis('off')  # Hide axes\n",
        "    plt.show()\n",
        "\n",
        "# Use a slider to scroll through the images\n",
        "interact(show_image, index=widgets.IntSlider(min=0, max=len(image_files)-1, step=1, description=\"Image Index\"));\n"
      ],
      "metadata": {
        "id": "tYNFFyQmH1Ji"
      },
      "id": "tYNFFyQmH1Ji",
      "execution_count": null,
      "outputs": []
    },
    {
      "cell_type": "code",
      "source": [
        "# Prepare the folder for the sequence \"0000\":\n",
        "! mkdir -p dataset/0000/labels_ord dataset/0000/images\n",
        "! cp webcam_images/* dataset/0000/images/\n",
        "# ! ls dataset/0000/images"
      ],
      "metadata": {
        "id": "HbOX2v25Q85J"
      },
      "id": "HbOX2v25Q85J",
      "execution_count": 59,
      "outputs": []
    },
    {
      "cell_type": "code",
      "source": [
        "# Get the dictionnary of snow_cover levels\n",
        "# resulting from the image wise annotation step:\n",
        "# (here, the dict is arbitrarily set to the level '0' for all images)\n",
        "lbls = {n: {'sequence':'0000', 'levelsc':'0'} for n in ls('dataset/0000/images')}"
      ],
      "metadata": {
        "id": "BRcj5C6ZScko"
      },
      "id": "BRcj5C6ZScko",
      "execution_count": 60,
      "outputs": []
    },
    {
      "cell_type": "code",
      "source": [
        "# Config:\n",
        "critere = 'sc'\n",
        "param = 'sc'\n",
        "mode = 'surface'\n",
        "modes = [mode]\n",
        "subgroup = ''\n",
        "times = ['']\n",
        "\n",
        "grounds = [r'snow_ground', r'snow_road', r'white_road', r'snow_ground_dry_road']\n",
        "\n",
        "# path to the folder that contains sequences\n",
        "dir_splitted = 'dataset'\n",
        "\n",
        "# path to a tmp dir where sequences are sorted:\n",
        "! mkdir -p tmp/images"
      ],
      "metadata": {
        "id": "MrQP7bO3Tb3o"
      },
      "id": "MrQP7bO3Tb3o",
      "execution_count": 61,
      "outputs": []
    },
    {
      "cell_type": "code",
      "source": [
        "# Define the list of sequences to label and the dict seq2images\n",
        "sequences = sorted({lbls[name]['sequence'] for name in lbls})\n",
        "\n",
        "# Create a dictionary mapping sequences to image sets\n",
        "seq2images = {\n",
        "    sequence: {name for name in lbls if lbls[name]['sequence'] == sequence}\n",
        "    for sequence in sequences\n",
        "}\n",
        "\n",
        "# List sequences that have more than one associated image\n",
        "sequences_to_sort = [seq for seq, images in seq2images.items() if len(images) > 1]\n",
        "\n",
        "print(sequences_to_sort, len(sequences_to_sort), len(sequences))\n"
      ],
      "metadata": {
        "id": "PKAolEeOUVCY"
      },
      "id": "PKAolEeOUVCY",
      "execution_count": null,
      "outputs": []
    },
    {
      "cell_type": "code",
      "source": [
        "# Generate new graphs dg, ug, eg:\n",
        "graphs = utils.get_new_graphs(lbls)\n",
        "tdg, tug, teg = utils.get_sdg_from_levels(graphs, lbls, param) # no supplementary edges"
      ],
      "metadata": {
        "id": "xWZLzJUGUk6w"
      },
      "id": "xWZLzJUGUk6w",
      "execution_count": null,
      "outputs": []
    },
    {
      "cell_type": "code",
      "source": [
        "# Add previous comparisons (stored in labels_ord) & Cleaning : one must not have cycles\n",
        "\n",
        "graphs= (tdg, tug, teg)\n",
        "tdg, tug, teg = utils.fill_graph_from_splitted(graphs, dir_splitted, ext='sc')\n",
        "print(len(tdg.edges), len(tug.edges), len(teg.edges))\n",
        "\n",
        "\n",
        "#washing\n",
        "two_cycles = set(tdg.edges).intersection(utils.invert_edges(set(tdg.edges)))\n",
        "two_cycles = utils.edges_and_inverted_edges(two_cycles)\n",
        "print(two_cycles)\n",
        "\n",
        "print(str(len(two_cycles)) + ' 2-cycles')\n",
        "tdg.remove_edges_from(two_cycles)\n",
        "tdg = nx.transitive_closure(tdg)\n",
        "two_cycles = set(tdg.edges).intersection(utils.invert_edges(set(tdg.edges)))\n",
        "two_cycles = utils.edges_and_inverted_edges(two_cycles)\n",
        "print(str(len(two_cycles)) + ' 2-cycles after washing')\n",
        "\n",
        "\n",
        "vs03 = utils.edges_and_inverted_edges(tug.edges).intersection(set(tdg.edges))\n",
        "print(str(len(vs03)) + ' 0vs3')\n",
        "vs03eg = {edge for edge in vs03 if edge in teg.edges}\n",
        "tdg.remove_edges_from(vs03)\n",
        "tug.remove_edges_from(vs03)\n",
        "teg.remove_edges_from(vs03eg)\n",
        "\n",
        "tdg = nx.transitive_closure(tdg)\n",
        "\n",
        "vs03 = utils.edges_and_inverted_edges(tug.edges).intersection(set(tdg.edges))\n",
        "print(str(len(vs03)) + ' 0vs3 after washing')\n",
        "print(len(tdg.edges), len(tug.edges), len(teg.edges))"
      ],
      "metadata": {
        "id": "9M4jX2HrW383"
      },
      "id": "9M4jX2HrW383",
      "execution_count": null,
      "outputs": []
    },
    {
      "cell_type": "code",
      "source": [
        "! cd annotation ; git pull ; cd ..\n",
        "# Reload each module if needed\n",
        "importlib.reload(utils)\n",
        "importlib.reload(pmf)"
      ],
      "metadata": {
        "id": "EpFWu9l4OncR"
      },
      "id": "EpFWu9l4OncR",
      "execution_count": null,
      "outputs": []
    },
    {
      "cell_type": "code",
      "source": [
        "# To get a decomposition in chains (do it with spyder/pycharm to work in interactive pop up window)\n",
        "\n",
        "for i, sequence in enumerate(sequences_to_sort):\n",
        "    print('sequence: ' + str(sequence), i)\n",
        "    root_dataset = dir_splitted\n",
        "    dataset = os.path.join(root_dataset, str(sequence))\n",
        "    images_dataset = join(dataset, 'images')\n",
        "    root_cs = join(dataset, r'labels_ord')\n",
        "\n",
        "    if not isdir(root_cs):\n",
        "        os.mkdir(root_cs)\n",
        "\n",
        "    # init frame_lbls and dic of subgroup\n",
        "    frame_lbls = {}\n",
        "    for name in os.listdir(images_dataset):\n",
        "            frame_lbls[name] = lbls[name]\n",
        "\n",
        "    dic_of_subgroups = {}\n",
        "    dic_of_subgroups[''] = [name for name in frame_lbls]\n",
        "\n",
        "    labeling_root= \"tmp\"\n",
        "    temp_images_dir= \"tmp/images\"\n",
        "    name_poset_sc = r'poset_sc.pickle'\n",
        "\n",
        "    #%def graph paths\n",
        "    graphs_names = [os.path.join(graph + '_sc' +r'.gpickle') for graph in [\"dg\",\"ug\",\"eg\"]]\n",
        "    graphs_paths = [os.path.join(root_cs, graph_name) for graph_name in graphs_names]\n",
        "\n",
        "    #def nodes\n",
        "    nodes = sorted(dic_of_subgroups[subgroup])\n",
        "    print('labelling of ' + str(len(nodes)) + ' nodes')\n",
        "\n",
        "    #clean images_dir\n",
        "    for name in os.listdir(temp_images_dir):\n",
        "        os.remove(os.path.join(temp_images_dir,name))\n",
        "\n",
        "    #copy in the temp image dir\n",
        "    for node in nodes:\n",
        "        shutil.copy(os.path.join(dataset, 'images', node), os.path.join(temp_images_dir))\n",
        "\n",
        "    # if graphs_names[0] not in os.listdir(root_cs):\n",
        "    print(\"need to init graphs\")\n",
        "    # restrict tdg, tug, teg:\n",
        "    dg = tdg.subgraph(nodes).copy()\n",
        "    ug = tug.subgraph(nodes).copy()\n",
        "    eg = teg.subgraph(nodes).copy()\n",
        "\n",
        "    #save the graphs\n",
        "    utils.write_gpickle(dg, graphs_paths[0])\n",
        "    utils.write_gpickle(ug, graphs_paths[1])\n",
        "    utils.write_gpickle(eg, graphs_paths[2])\n",
        "\n",
        "    # else:\n",
        "    #     pass\n",
        "\n",
        "\n",
        "    kwargs = {'root_cs': root_cs,\n",
        "              'critere':  'sc',\n",
        "              'subgroup': subgroup,\n",
        "              'mode' : '',\n",
        "              'graphs_paths': graphs_paths,\n",
        "              'images_dir' : temp_images_dir\n",
        "              }\n",
        "\n",
        "    decomposition = pmf.labelling_mode(lbls, **kwargs)"
      ],
      "metadata": {
        "id": "MajnXsMOgFv3"
      },
      "id": "MajnXsMOgFv3",
      "execution_count": null,
      "outputs": []
    },
    {
      "cell_type": "code",
      "source": [
        "# To remove / clean nodes :\n",
        "#00010268_0_20131114_081603.jpg\n",
        "ntr = ['00010657_7002_20130721_180838.jpg']\n",
        "\n",
        "clean_nodes(ntr, **kwargs)\n",
        "\n",
        "#%%\n",
        "path2 = os.path.join(root_cs, 'decomposition_vvday.pickle')\n",
        "os.remove(path2)"
      ],
      "metadata": {
        "id": "moggg4j1gGtG"
      },
      "id": "moggg4j1gGtG",
      "execution_count": null,
      "outputs": []
    }
  ],
  "metadata": {
    "kernelspec": {
      "display_name": "Python 3",
      "name": "python3"
    },
    "language_info": {
      "codemirror_mode": {
        "name": "ipython",
        "version": 3
      },
      "file_extension": ".py",
      "mimetype": "text/x-python",
      "name": "python",
      "nbconvert_exporter": "python",
      "pygments_lexer": "ipython3",
      "version": "3.9.15"
    },
    "colab": {
      "provenance": [],
      "gpuType": "T4"
    },
    "accelerator": "GPU"
  },
  "nbformat": 4,
  "nbformat_minor": 5
}